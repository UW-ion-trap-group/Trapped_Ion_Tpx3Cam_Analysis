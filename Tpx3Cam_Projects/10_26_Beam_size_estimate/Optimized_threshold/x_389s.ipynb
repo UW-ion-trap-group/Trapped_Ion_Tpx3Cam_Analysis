{
 "cells": [
  {
   "cell_type": "markdown",
   "id": "33af5f56-c861-47b5-99a0-78ba1fbeb1e1",
   "metadata": {},
   "source": [
    "# X 389.5"
   ]
  },
  {
   "cell_type": "markdown",
   "id": "bc94caeb-bc2f-468d-bb97-a4d0c691b4eb",
   "metadata": {},
   "source": [
    "#### Numerically set threshold and then minimize probabilitites of misscounts. "
   ]
  },
  {
   "cell_type": "code",
   "execution_count": 173,
   "id": "30792e57-7051-4566-9531-9bb35df7bed2",
   "metadata": {},
   "outputs": [
    {
     "name": "stdout",
     "output_type": "stream",
     "text": [
      "Fri Nov 26 01:19:31 2021\n"
     ]
    }
   ],
   "source": [
    "import numpy as np\n",
    "import scipy\n",
    "import scipy.optimize\n",
    "from scipy.optimize import curve_fit\n",
    "from scipy import stats\n",
    "import scipy.stats\n",
    "%matplotlib inline\n",
    "import matplotlib as mpl\n",
    "import matplotlib.pyplot as plt\n",
    "import matplotlib.mlab as mlab\n",
    "import matplotlib.colors as mcolors\n",
    "from mpl_toolkits import mplot3d\n",
    "import glob\n",
    "import time\n",
    "import pandas as pd\n",
    "import math\n",
    "#import File_functions\n",
    "plt.rcParams[\"figure.figsize\"] = (3,3)\n",
    "print (time.ctime())"
   ]
  },
  {
   "cell_type": "code",
   "execution_count": 192,
   "id": "463213f0-a067-4516-b0fb-87043abfb852",
   "metadata": {},
   "outputs": [],
   "source": [
    "def One(x,y,x2,y2,file,plot,afterpulse_control = True):\n",
    "    \n",
    "    One.filename = file\n",
    "    x1,y1=x,y\n",
    "    x2,y2=x2,y2\n",
    "\n",
    "    old_data_table = pd.read_csv(f'{filename}')\n",
    "    old_data_table = old_data_table.drop(columns = 'Unnamed: 0')\n",
    "    old_data_table['time'] = ((25*old_data_table['time'])/(4096)) #Output in ns\n",
    "    One.old_data_table=old_data_table\n",
    "    \n",
    "    R = 2\n",
    "    R1 = R\n",
    "    Ion_1 = (\n",
    "        old_data_table.query(f\"((x-{x1})**2 + (y-{y1})**2)**(1/2) <= {R1}\")\n",
    "        .reset_index(drop=True)\n",
    "    )\n",
    "    name = Ion_1\n",
    "    dt = []\n",
    "    for i in range(0, len(name)-1):\n",
    "        dt.append(name.at[i+1, 'time'] - name.at[i, 'time'])\n",
    "    dt.insert(0,0)\n",
    "    Ion_1['dt'] = dt\n",
    "    \n",
    "    if afterpulse_control:\n",
    "        Ion_1.query(f' dt > 1e-7', inplace = True) # eliminate after pulsing effects, this prevents breaks in dark states, and peaks at 0(s) bright states\n",
    "        Ion_1.reset_index(inplace = True)\n",
    "    Ion_1['index'] = np.arange(len(name))\n",
    "    \n",
    "    ## Dark Region referred to as \"Dark Ion\"\n",
    "    \n",
    "    dark_Ion_1 = (\n",
    "        old_data_table.query(f\"((x-{x2})**2 + (y-{y2})**2)**(1/2) <= {R1}\")\n",
    "        .reset_index(drop=True)\n",
    "    )\n",
    "    name = dark_Ion_1\n",
    "    dt = []\n",
    "    for i in range(0, len(name)-1):\n",
    "        dt.append(name.at[i+1, 'time'] - name.at[i, 'time'])\n",
    "    dt.insert(0,0)\n",
    "    dark_Ion_1['dt'] = dt\n",
    "    \n",
    "    if afterpulse_control:\n",
    "        dark_Ion_1.query(f' dt > 1e-7', inplace = True) # eliminate after pulsing effects, this prevents breaks in dark states, and peaks at 0(s) bright states\n",
    "        dark_Ion_1.reset_index(inplace = True)\n",
    "    dark_Ion_1['index'] = np.arange(len(name))\n",
    "    \n",
    "    One.data_table = Ion_1\n",
    "    data_table= Ion_1\n",
    "    dark_data_table=dark_Ion_1\n",
    "    One.dark_data_table=dark_Ion_1\n",
    "    One.ion_1=Ion(1, x,x2, y,y2, R, Ion_1,dark_Ion_1,debugPrinting=False)\n",
    "     \n",
    "    if plot==True:\n",
    "        fig, (ax1, ax2,ax3) = plt.subplots(ncols = 3, figsize = (12, 4))\n",
    "        ax1.hist2d(old_data_table['x'], old_data_table['y'], range = [(min(data_table['x'])-2, max(data_table['x'])+2), (min(data_table['y'])-2, max(data_table['y'])+2)], bins = (int(max(data_table['x']) - min(data_table['x']) +5) , int(max(data_table['y']) - min(data_table['y']) +5)))\n",
    "        ax2.hist2d(data_table['x'], data_table['y'], range = [(min(data_table['x'])-2, max(data_table['x'])+2), (min(data_table['y'])-2, max(data_table['y'])+2)], bins = (int(max(data_table['x']) - min(data_table['x']) +5) , int(max(data_table['y']) - min(data_table['y']) +5)))\n",
    "        ax3.hist2d(dark_data_table['x'], dark_data_table['y'], range = [(min(dark_data_table['x'])-2, max(dark_data_table['x'])+2), (min(dark_data_table['y'])-2, max(dark_data_table['y'])+2)], bins = (int(max(dark_data_table['x']) - min(dark_data_table['x']) +5) , int(max(dark_data_table['y']) - min(dark_data_table['y']) +5)))\n",
    "        ax1.set_title(\"Full Data\")\n",
    "        ax2.set_title(\"True Ion ROI\")\n",
    "        ax3.set_title(f'ROI @x={x2}')\n",
    "        plt.show()"
   ]
  },
  {
   "cell_type": "code",
   "execution_count": 193,
   "id": "7528993e-c4f3-4d03-99d3-5515bb938fa6",
   "metadata": {},
   "outputs": [],
   "source": [
    "class Ion:\n",
    "    def __init__(self, n, x,x2, y,y2, r0,data,dark_data, debugPrinting=False):\n",
    "        self.filename=One.filename\n",
    "        self.n = n # Ion number (left to right)\n",
    "        self.x = x # Ion x-position\n",
    "        self.y = y # Ion y-position\n",
    "        self.r0 = r0 # Ion radius\n",
    "        \n",
    "        #Dark ROI parameters \n",
    "        self.x2 = x2 # dark x-position\n",
    "        self.y2= y2 # dark y-position\n",
    "        self.r2 = r0 # dark radius (Same as Ion's)\n",
    " \n",
    "        self.data = data # Dataframe used (data_table in choose_file)\n",
    "        self.dark_data = dark_data #Dataframe for dark ROI \n",
    "        \n",
    "        self.threshold = [] # differentiator between bright/dark states by 'dt' between events in ROI\n",
    "        \n",
    "        self.bright = [] # stores data for only bright events\n",
    "        self.dark = [] # stores data for only dark events\n",
    "        \n",
    "        self.transpts = []  # Transition points (index number)\n",
    "        # DtB = dark to bright\n",
    "        # BtD = bright to dark\n",
    "        self.tofBright=[]  \n",
    "        self.tofDark=[]\n",
    "        self.dtDark=[]\n",
    "        self.dtBright=[]\n",
    "        self.DtB = []\n",
    "        self.BtD = []\n",
    "        self.brightRanges = []\n",
    "\n",
    "# auto_threshold finds threshold dt where sum of (area of dark ion to the left of threshold ) and (area of true ion\n",
    "  # to the right of threshold) is minimal. \n",
    "    \n",
    "    def auto_threshold(self,sigma, uncertainty_control ): \n",
    "                \n",
    "                fig, (ax1, ax2) = plt.subplots(1, 2, figsize = (11, 3))\n",
    "                bin_heights, bin_borders, _ = ax1.hist(self.data['dt'], bins = 'auto', range = (0, 1e7), alpha = .5, label=(f'Ion {self.n}'), density = True)\n",
    "                dark_heights, dark_borders, _ = ax1.hist(self.dark_data['dt'], bins = bin_borders, range = (0, 1e7), alpha = .5, label=(f'Dark @x= {self.x2}'), density = True) \n",
    "                                #dark bins same as true ion bins to locate threshold. \n",
    "                bin_centers = bin_borders[:-1] + np.diff(bin_borders) / 2\n",
    "                ax1.set_yscale('log')      \n",
    "                 \n",
    "                # Display parameters \n",
    "                ax1.set_title(f'{filename} Ion #{self.n}')\n",
    "                ax1.set_ylabel(f'Probability (log-base)');\n",
    "                ax1.set_xlabel(f'Time between events in ROI (ns)')\n",
    "\n",
    "                # This part determines the theshold for the Bright/Dark state detection by minimizing area of overlap. \n",
    "                width=bin_centers[1]-bin_centers[0]\n",
    "                summ=[]\n",
    "                for i in range (len(bin_centers)):\n",
    "                    summ.append((sum(dark_heights[:i])*width)+(sum(bin_heights[i:])*width))\n",
    "                idx=np.array(summ).argmin()    #index of smallest value in \"sum\"\n",
    "                threshold=bin_centers[idx] # in  ns\n",
    "                \n",
    "                ax1.legend()\n",
    "                ax1.axvline(threshold)\n",
    "\n",
    "                print(f'Ion {self.n} ; threshold: {threshold*1e-9}(s)' )\n",
    "             \n",
    "                #Plot everything on a non-log base y-scale. \n",
    "                ax2.hist(self.data['dt'], bins = 'auto', range = (0, 1e7), alpha = .5, label=(f'Ion {self.n}'), density = True)\n",
    "                ax2.hist(self.dark_data['dt'], bins = bin_borders, range = (0, 1e7), alpha = .5, label=(f'Dark @x= {self.x2}'), density = True)\n",
    "                bin_centers = bin_borders[:-1] + np.diff(bin_borders) / 2\n",
    "                ax2.set_title(f'{filename} Ion #{self.n}')\n",
    "                ax2.set_ylabel(f'Probability')\n",
    "                ax2.set_xlabel(f'Time between events in ROI (ns)')\n",
    "                ax2.axvline(threshold,label=\"Thresold\")\n",
    "                ax2.set_ylim(0,bin_heights.max()*1.05)\n",
    "        \n",
    "                ax2.legend()\n",
    "                fig.tight_layout()\n",
    "\n",
    "                self.threshold = threshold\n",
    "                \n",
    "    def sortbythreshold(self, uncertainty_control = False): #Sorts true ion into dark and bright regions \n",
    "        \n",
    "            self.bright = self.data.query(f'dt < {self.threshold}')\n",
    "            self.dark = self.data.query(f'dt > {self.threshold}')\n",
    " \n",
    "    def transitions(self, single_photon_control = True):\n",
    "       \n",
    "        # identifies points where quantum jumps happen using list comprehension\n",
    "        misscount = 0\n",
    "        self.transpts.clear()\n",
    "        for i in range(len(self.data)) :\n",
    "            if i not in self.bright['index']:\n",
    "                misscount = misscount + 1\n",
    "                if misscount == 1:\n",
    "                    self.transpts.append(i)\n",
    "            if i in self.bright['index'] and misscount >= 1:\n",
    "                misscount = 0\n",
    "                self.transpts.append(i)\n",
    "        \n",
    "        \n",
    "                \n",
    "        # DtB = dark to bright\n",
    "        # BtD = bright to dark\n",
    "        self.DtB.clear()\n",
    "        self.BtD.clear()\n",
    "        for i in range(len(self.transpts)):\n",
    "            if self.transpts[i] in self.bright['index']:\n",
    "                self.DtB.append(self.transpts[i])\n",
    "            else:\n",
    "                self.BtD.append(self.transpts[i])\n",
    "                \n",
    "    def setup(self,kind,sigma, uncertainty_control, single_photon_control):\n",
    "        \n",
    "        if kind==\"auto\":\n",
    "            self.auto_threshold(sigma,uncertainty_control)\n",
    "            self.sortbythreshold(uncertainty_control)\n",
    "            self.transitions(single_photon_control)\n",
    "        elif kind==\"integration\":\n",
    "            self.FindBrightRangesPrecise(arrT,N)\n",
    "            \n",
    "    def visRange(self, start, duration):\n",
    "        \n",
    "        # plots a small slice of data \n",
    "        # and uses red/blue color coding to distinguish between the bright and dark state\n",
    "        # useful for visualizing the effects of different sorting methods\n",
    "        \n",
    "        end = start+duration # index values\n",
    "        use = self.data.query(f'{start} <= index < {end}')\n",
    "        index = use.index\n",
    "        change = use['dt']\n",
    "        linehere = []\n",
    "        for j in index:\n",
    "            if j in self.transpts:\n",
    "                linehere.append(j)\n",
    "        \n",
    "        plt.figure(figsize=(15, 1.5))\n",
    "        counting = index\n",
    "        plt.scatter(counting, change)\n",
    "        plt.title(\"Visual representation of ion states\")\n",
    "        plt.xlabel(\"Time (s)\")\n",
    "        plt.ylabel(\"time between photons (s)\")\n",
    "        plt.ylim(-15,25*self.threshold)\n",
    "\n",
    "        if linehere != []:\n",
    "            \n",
    "            if index[0] in self.dark['index']:\n",
    "                if index[0] in self.transpts:\n",
    "                    plt.axvspan(self.data.at[index[0], 'index'], self.data.at[linehere[0], 'index'], alpha=0.3, color='blue')\n",
    "                    plt.axvspan(start, self.data.at[index[0], 'index'], alpha=0.3, color='red',label=\"Bright\")\n",
    "                else:\n",
    "                    plt.axvspan(start, self.data.at[linehere[0], 'index'], alpha=0.3, color='blue',label=\"Dark\")\n",
    "            if index[0] in self.bright['index']:\n",
    "                if index[0] in self.transpts:\n",
    "                    plt.axvspan(self.data.at[index[0], 'index'], self.data.at[linehere[0], 'index'], alpha=0.3, color='red')\n",
    "                    plt.axvspan(start, self.data.at[index[0], 'index'], alpha=0.3, color='blue')\n",
    "                else:\n",
    "                    plt.axvspan(start, self.data.at[linehere[0], 'index'], alpha=0.3, color='red')\n",
    "\n",
    "            if index[-1] in self.bright['index']:            \n",
    "                plt.axvspan(self.data.at[linehere[-1], 'index'], end, alpha=0.3, color='red')\n",
    "            if index[-1] in self.dark['index']:\n",
    "                plt.axvspan(self.data.at[linehere[-1], 'index'], end, alpha=0.3, color='blue')\n",
    "                \n",
    "            for i in range(len(linehere)):\n",
    "                plt.axvline(x=linehere[i])\n",
    "            for i in range(len(linehere) - 1):\n",
    "                if linehere[i] in self.DtB:\n",
    "                    plt.axvspan(self.data.at[linehere[i], 'index'], self.data.at[linehere[i+1], 'index'], alpha=0.3, color='red')\n",
    "                if linehere[i] in self.BtD:\n",
    "                    plt.axvspan(self.data.at[linehere[i], 'index'], self.data.at[linehere[i+1], 'index'], alpha=0.3, color='blue')\n",
    "            \n",
    "            \n",
    "        if linehere == []:\n",
    "            if len(use) == (0 or 1):\n",
    "                print(f'Ion {self.n} had {len(use)} hits during this time')\n",
    "                plt.axvspan(start, end, alpha=0.3, color='blue')\n",
    "            else:\n",
    "                if index[0] in self.dark['index']:\n",
    "                    plt.axvspan(self.data.at[index[0], 'index'], self.data.at[index[-1], 'index'], alpha=0.3, color='blue')\n",
    "                else:\n",
    "                    plt.axvspan(self.data.at[index[0], 'index'], self.data.at[index[-1], 'index'], alpha=0.3, color='red')\n",
    "            plt.axvspan(self.data.at[index[-1], 'index'], end, alpha=0.3, color='blue')\n",
    "            plt.axvspan(start, self.data.at[index[0], 'index'], alpha=0.3, color='blue')\n",
    "            \n",
    "        plt.xlim(start,end) \n",
    "        plt.axhline(self.threshold)\n",
    "        plt.legend()\n",
    "        plt.show()\n",
    "        "
   ]
  },
  {
   "cell_type": "markdown",
   "id": "edcba8ec-8508-4ef2-8380-744b24c92735",
   "metadata": {},
   "source": [
    "Beam Position: 389.5 <br>\n",
    "Ion Position : x=47"
   ]
  },
  {
   "cell_type": "code",
   "execution_count": 194,
   "id": "1fde80bc-588f-4cf5-a4c6-6554d652eaec",
   "metadata": {},
   "outputs": [
    {
     "data": {
      "image/png": "[encoded data removed]",
      "text/plain": [
       "<Figure size 1200x400 with 3 Axes>"
      ]
     },
     "metadata": {},
     "output_type": "display_data"
    }
   ],
   "source": [
    "filename='../P/x_389.5'\n",
    "One(x=47,y=92,x2=51,y2=92,file=filename,plot=True) # x=47; y=92 (Actual Ion)"
   ]
  },
  {
   "cell_type": "code",
   "execution_count": 195,
   "id": "41bc255e-b7a7-48c0-8ed9-9eb3f1ea5aa8",
   "metadata": {},
   "outputs": [],
   "source": [
    "ion_1=One.ion_1 #ROI of ion centered at x=47"
   ]
  },
  {
   "cell_type": "code",
   "execution_count": 196,
   "id": "c77e6264-983e-44f7-8764-b7a5ef4d9662",
   "metadata": {},
   "outputs": [
    {
     "name": "stdout",
     "output_type": "stream",
     "text": [
      "Ion 1 ; threshold: 0.0020695970695970697(s)\n"
     ]
    },
    {
     "data": {
      "image/png": "[encoded data removed]",
      "text/plain": [
       "<Figure size 1100x300 with 2 Axes>"
      ]
     },
     "metadata": {},
     "output_type": "display_data"
    }
   ],
   "source": [
    "sigma,uncertainty_control,single_photon_control=2,False,True\n",
    "ion_1.setup(\"auto\",sigma, uncertainty_control, single_photon_control)"
   ]
  },
  {
   "cell_type": "code",
   "execution_count": 160,
   "id": "b1b9397a-429a-4716-b5f4-ab9ae27f9f4d",
   "metadata": {},
   "outputs": [
    {
     "name": "stdout",
     "output_type": "stream",
     "text": [
      "#Transitions: 78755 \n",
      "Rate (s): 129.59292665649357\n"
     ]
    }
   ],
   "source": [
    "time=(max(One.data_table['time'])-min(One.data_table['time']))*1e-9  #converting to seconds\n",
    "rate=(len(ion_1.transpts))/time\n",
    "print (\"#Transitions:\",len(ion_1.transpts),\"\\nRate (s):\",rate)"
   ]
  },
  {
   "cell_type": "code",
   "execution_count": 151,
   "id": "6794af7d-8f82-4dc6-b476-f65343d7acdf",
   "metadata": {},
   "outputs": [
    {
     "name": "stdout",
     "output_type": "stream",
     "text": [
      "Empty DataFrame\n",
      "Columns: [index, y, x, time, center flux, cluster size, dt]\n",
      "Index: []\n",
      "Empty DataFrame\n",
      "Columns: [index, y, x, time, center flux, cluster size, dt]\n",
      "Index: []\n"
     ]
    }
   ],
   "source": [
    "j=ion_1.bright.query(f'dt>{ion_1.threshold}') \n",
    "print (j) #should be empty since bright dt < threshold by definition\n",
    "dj=ion_1.dark.query(f'dt<{ion_1.threshold}') \n",
    "print (dj )#should be empty since dark dt > threshold by definition"
   ]
  },
  {
   "cell_type": "code",
   "execution_count": 152,
   "id": "cbb359c2-d1f7-42ed-87b4-f94e65970204",
   "metadata": {},
   "outputs": [
    {
     "data": {
      "text/plain": [
       "5.40444710254822"
      ]
     },
     "execution_count": 152,
     "metadata": {},
     "output_type": "execute_result"
    }
   ],
   "source": [
    "len(ion_1.bright)/len(ion_1.dark)  # gives ratio of number of elements in each state"
   ]
  },
  {
   "cell_type": "markdown",
   "id": "c56e62ef-2c68-4189-99cb-d22bdf7bb896",
   "metadata": {},
   "source": [
    "##### Bright size is ~5x dark size of true ion."
   ]
  },
  {
   "cell_type": "markdown",
   "id": "b8e5bc3a-7939-40b1-9f8e-79720983429b",
   "metadata": {},
   "source": [
    "## Testing def transitions:"
   ]
  },
  {
   "cell_type": "code",
   "execution_count": null,
   "id": "d90712c2-a5c1-4207-ba00-b0ee50c6fa48",
   "metadata": {},
   "outputs": [],
   "source": [
    "sample_bright=[0,1,2,3,4,8,9,12,13,18,20] #hypothetical index numbers of bright photons \n",
    "sample_dark=[5,6,7,10,11,14,15,16,17,19]"
   ]
  },
  {
   "cell_type": "markdown",
   "id": "dceca685-d48e-47fd-acfb-f9c0b474cfb8",
   "metadata": {},
   "source": [
    "Analytically, I can tell transitions occur at following indices:<br>\n",
    "bright_to_dark=[5,10,14,19] <br>\n",
    "dark_to_bright=[8,12,18,20] <br>\n",
    "=> <b> Transpts=[5,8,10,12,14,18,19,20] = a_t (below)</b>"
   ]
  },
  {
   "cell_type": "code",
   "execution_count": null,
   "id": "2f900528-304a-487a-81dc-b6e3ff0e5e45",
   "metadata": {},
   "outputs": [],
   "source": [
    "a_t=[5,8,10,12,14,18,19,20]\n",
    "indices=[0,1,2,3,4,5,6,7,8,9,10,11,12,13,14,15,16,17,18,19,20]\n",
    "def transitions():\n",
    "       \n",
    "        # identifies points where quantum jumps happen using list comprehension\n",
    "        misscount = 0\n",
    "        transpts=[]\n",
    "        for i in range(len(indices)) :\n",
    "            if i not in sample_bright:\n",
    "                misscount = misscount + 1\n",
    "                if misscount == 1:\n",
    "                    transpts.append(i)\n",
    "            if i in sample_bright and misscount >= 1:\n",
    "                misscount = 0\n",
    "                transpts.append(i)\n",
    "        return (transpts)\n",
    "t=transitions()"
   ]
  },
  {
   "cell_type": "code",
   "execution_count": 247,
   "id": "04fc99fe-d423-4585-a31c-8d7e3702a700",
   "metadata": {},
   "outputs": [
    {
     "name": "stdout",
     "output_type": "stream",
     "text": [
      "[5, 8, 10, 12, 14, 18, 19, 20] ; [5, 8, 10, 12, 14, 18, 19, 20]\n"
     ]
    }
   ],
   "source": [
    "print (t,\";\",a_t)"
   ]
  },
  {
   "cell_type": "markdown",
   "id": "c196ed1c-7498-4630-a31f-963547b8ec1a",
   "metadata": {},
   "source": [
    "Transition points match. Function has been validated."
   ]
  },
  {
   "cell_type": "code",
   "execution_count": 183,
   "id": "d3328175-1445-4d44-a917-506878acd6fd",
   "metadata": {},
   "outputs": [
    {
     "name": "stderr",
     "output_type": "stream",
     "text": [
      "No handles with labels found to put in legend.\n"
     ]
    },
    {
     "data": {
      "image/png": "[encoded data removed]",
      "text/plain": [
       "<Figure size 1500x150 with 1 Axes>"
      ]
     },
     "metadata": {},
     "output_type": "display_data"
    }
   ],
   "source": [
    "ion_1.visRange(0,80)"
   ]
  },
  {
   "cell_type": "markdown",
   "id": "62bb4d03-ec1e-46dd-bd0a-9c824a16ad1c",
   "metadata": {},
   "source": [
    "Blue: Dark "
   ]
  },
  {
   "cell_type": "code",
   "execution_count": 246,
   "id": "095430c7-e6ab-4d55-8448-795e83c3b181",
   "metadata": {},
   "outputs": [
    {
     "data": {
      "text/html": [
       "<div>\n",
       "<style scoped>\n",
       "    .dataframe tbody tr th:only-of-type {\n",
       "        vertical-align: middle;\n",
       "    }\n",
       "\n",
       "    .dataframe tbody tr th {\n",
       "        vertical-align: top;\n",
       "    }\n",
       "\n",
       "    .dataframe thead th {\n",
       "        text-align: right;\n",
       "    }\n",
       "</style>\n",
       "<table border=\"1\" class=\"dataframe\">\n",
       "  <thead>\n",
       "    <tr style=\"text-align: right;\">\n",
       "      <th></th>\n",
       "      <th>index</th>\n",
       "      <th>y</th>\n",
       "      <th>x</th>\n",
       "      <th>time</th>\n",
       "      <th>center flux</th>\n",
       "      <th>cluster size</th>\n",
       "      <th>dt</th>\n",
       "    </tr>\n",
       "  </thead>\n",
       "  <tbody>\n",
       "    <tr>\n",
       "      <th>8</th>\n",
       "      <td>8</td>\n",
       "      <td>93</td>\n",
       "      <td>48</td>\n",
       "      <td>1.237680e+07</td>\n",
       "      <td>800</td>\n",
       "      <td>4</td>\n",
       "      <td>2.531658e+06</td>\n",
       "    </tr>\n",
       "    <tr>\n",
       "      <th>22</th>\n",
       "      <td>22</td>\n",
       "      <td>93</td>\n",
       "      <td>46</td>\n",
       "      <td>2.605018e+07</td>\n",
       "      <td>2150</td>\n",
       "      <td>8</td>\n",
       "      <td>2.100702e+06</td>\n",
       "    </tr>\n",
       "    <tr>\n",
       "      <th>29</th>\n",
       "      <td>29</td>\n",
       "      <td>92</td>\n",
       "      <td>48</td>\n",
       "      <td>3.686888e+07</td>\n",
       "      <td>1250</td>\n",
       "      <td>4</td>\n",
       "      <td>2.393475e+06</td>\n",
       "    </tr>\n",
       "    <tr>\n",
       "      <th>31</th>\n",
       "      <td>31</td>\n",
       "      <td>92</td>\n",
       "      <td>47</td>\n",
       "      <td>3.908945e+07</td>\n",
       "      <td>1300</td>\n",
       "      <td>4</td>\n",
       "      <td>2.145497e+06</td>\n",
       "    </tr>\n",
       "    <tr>\n",
       "      <th>32</th>\n",
       "      <td>32</td>\n",
       "      <td>92</td>\n",
       "      <td>47</td>\n",
       "      <td>4.425189e+07</td>\n",
       "      <td>575</td>\n",
       "      <td>4</td>\n",
       "      <td>5.162439e+06</td>\n",
       "    </tr>\n",
       "    <tr>\n",
       "      <th>38</th>\n",
       "      <td>38</td>\n",
       "      <td>91</td>\n",
       "      <td>47</td>\n",
       "      <td>5.067974e+07</td>\n",
       "      <td>1675</td>\n",
       "      <td>6</td>\n",
       "      <td>2.497961e+06</td>\n",
       "    </tr>\n",
       "  </tbody>\n",
       "</table>\n",
       "</div>"
      ],
      "text/plain": [
       "    index   y   x          time  center flux  cluster size            dt\n",
       "8       8  93  48  1.237680e+07          800             4  2.531658e+06\n",
       "22     22  93  46  2.605018e+07         2150             8  2.100702e+06\n",
       "29     29  92  48  3.686888e+07         1250             4  2.393475e+06\n",
       "31     31  92  47  3.908945e+07         1300             4  2.145497e+06\n",
       "32     32  92  47  4.425189e+07          575             4  5.162439e+06\n",
       "38     38  91  47  5.067974e+07         1675             6  2.497961e+06"
      ]
     },
     "execution_count": 246,
     "metadata": {},
     "output_type": "execute_result"
    }
   ],
   "source": [
    "ion_1.dark.head(6) # first 6 values of dark dataframe of the ion (dt> threshold)"
   ]
  },
  {
   "cell_type": "code",
   "execution_count": 245,
   "id": "059bf273-54f5-4506-a88c-06b66909aa3f",
   "metadata": {},
   "outputs": [
    {
     "data": {
      "text/plain": [
       "[8, 9, 22, 23, 29]"
      ]
     },
     "execution_count": 245,
     "metadata": {},
     "output_type": "execute_result"
    }
   ],
   "source": [
    "#Transition points (indices)\n",
    "ion_1.transpts[:5] # Only printed to illustrate comparison to h_lines df"
   ]
  },
  {
   "cell_type": "code",
   "execution_count": 243,
   "id": "30d731b8-1253-46dc-b99f-4fa1ecf82fa5",
   "metadata": {},
   "outputs": [
    {
     "data": {
      "text/html": [
       "<div>\n",
       "<style scoped>\n",
       "    .dataframe tbody tr th:only-of-type {\n",
       "        vertical-align: middle;\n",
       "    }\n",
       "\n",
       "    .dataframe tbody tr th {\n",
       "        vertical-align: top;\n",
       "    }\n",
       "\n",
       "    .dataframe thead th {\n",
       "        text-align: right;\n",
       "    }\n",
       "</style>\n",
       "<table border=\"1\" class=\"dataframe\">\n",
       "  <thead>\n",
       "    <tr style=\"text-align: right;\">\n",
       "      <th></th>\n",
       "      <th>index</th>\n",
       "      <th>y</th>\n",
       "      <th>x</th>\n",
       "      <th>time</th>\n",
       "      <th>center flux</th>\n",
       "      <th>cluster size</th>\n",
       "      <th>dt</th>\n",
       "    </tr>\n",
       "  </thead>\n",
       "  <tbody>\n",
       "    <tr>\n",
       "      <th>8</th>\n",
       "      <td>8</td>\n",
       "      <td>93</td>\n",
       "      <td>48</td>\n",
       "      <td>1.237680e+07</td>\n",
       "      <td>800</td>\n",
       "      <td>4</td>\n",
       "      <td>2.531658e+06</td>\n",
       "    </tr>\n",
       "    <tr>\n",
       "      <th>9</th>\n",
       "      <td>9</td>\n",
       "      <td>92</td>\n",
       "      <td>48</td>\n",
       "      <td>1.289542e+07</td>\n",
       "      <td>1575</td>\n",
       "      <td>10</td>\n",
       "      <td>5.186203e+05</td>\n",
       "    </tr>\n",
       "    <tr>\n",
       "      <th>22</th>\n",
       "      <td>22</td>\n",
       "      <td>93</td>\n",
       "      <td>46</td>\n",
       "      <td>2.605018e+07</td>\n",
       "      <td>2150</td>\n",
       "      <td>8</td>\n",
       "      <td>2.100702e+06</td>\n",
       "    </tr>\n",
       "  </tbody>\n",
       "</table>\n",
       "</div>"
      ],
      "text/plain": [
       "    index   y   x          time  center flux  cluster size            dt\n",
       "8       8  93  48  1.237680e+07          800             4  2.531658e+06\n",
       "9       9  92  48  1.289542e+07         1575            10  5.186203e+05\n",
       "22     22  93  46  2.605018e+07         2150             8  2.100702e+06"
      ]
     },
     "execution_count": 243,
     "metadata": {},
     "output_type": "execute_result"
    }
   ],
   "source": [
    "h_lines=One.data_table.iloc[ion_1.transpts] # df ONLY of data at transition points"
   ]
  },
  {
   "cell_type": "code",
   "execution_count": 242,
   "id": "1dfc4344-1db1-4486-8b06-e3249808a727",
   "metadata": {},
   "outputs": [
    {
     "data": {
      "image/png": "[encoded data removed]",
      "text/plain": [
       "<Figure size 1200x800 with 2 Axes>"
      ]
     },
     "metadata": {},
     "output_type": "display_data"
    }
   ],
   "source": [
    "# This cell plots the telegraph on the left and times where transition occurs. \n",
    "\n",
    "fig,(ax,ax2)=plt.subplots(1,2,figsize=(9,4))\n",
    "ax.hist2d(One.old_data_table[\"x\"],One.old_data_table[\"time\"],bins=256)\n",
    "ax2.hist2d(One.old_data_table[\"x\"],One.old_data_table[\"time\"],bins=256)\n",
    "ax2.hlines(h_lines[\"time\"],0,max(One.old_data_table[\"x\"]),colors=\"white\",lw=0.3,ls=\"--\")\n",
    "ax.set_ylim(0,5e7)\n",
    "ax2.set_ylim(0,5e7)\n",
    "ax.set_xlabel(\"x\")\n",
    "ax.set_ylabel(\"Time(ns)\")\n",
    "ax.set_xlim(0,100)\n",
    "ax2.set_xlim(0,100)\n",
    "plt.show()"
   ]
  },
  {
   "cell_type": "markdown",
   "id": "1adc57e2-9adc-4123-975d-5cfeda7c483d",
   "metadata": {},
   "source": [
    "Because there are about 8000 transition points, it is not possible to visualize the lines where transition occurs on the telegraph as there are about 8000 lines."
   ]
  },
  {
   "cell_type": "code",
   "execution_count": 228,
   "id": "3977d02a-d045-4e50-a09c-c13574b82a13",
   "metadata": {},
   "outputs": [
    {
     "data": {
      "text/html": [
       "<div>\n",
       "<style scoped>\n",
       "    .dataframe tbody tr th:only-of-type {\n",
       "        vertical-align: middle;\n",
       "    }\n",
       "\n",
       "    .dataframe tbody tr th {\n",
       "        vertical-align: top;\n",
       "    }\n",
       "\n",
       "    .dataframe thead th {\n",
       "        text-align: right;\n",
       "    }\n",
       "</style>\n",
       "<table border=\"1\" class=\"dataframe\">\n",
       "  <thead>\n",
       "    <tr style=\"text-align: right;\">\n",
       "      <th></th>\n",
       "      <th>index</th>\n",
       "      <th>y</th>\n",
       "      <th>x</th>\n",
       "      <th>time</th>\n",
       "      <th>center flux</th>\n",
       "      <th>cluster size</th>\n",
       "      <th>dt</th>\n",
       "    </tr>\n",
       "  </thead>\n",
       "  <tbody>\n",
       "    <tr>\n",
       "      <th>8</th>\n",
       "      <td>8</td>\n",
       "      <td>93</td>\n",
       "      <td>48</td>\n",
       "      <td>1.237680e+07</td>\n",
       "      <td>800</td>\n",
       "      <td>4</td>\n",
       "      <td>2.531658e+06</td>\n",
       "    </tr>\n",
       "    <tr>\n",
       "      <th>9</th>\n",
       "      <td>9</td>\n",
       "      <td>92</td>\n",
       "      <td>48</td>\n",
       "      <td>1.289542e+07</td>\n",
       "      <td>1575</td>\n",
       "      <td>10</td>\n",
       "      <td>5.186203e+05</td>\n",
       "    </tr>\n",
       "    <tr>\n",
       "      <th>22</th>\n",
       "      <td>22</td>\n",
       "      <td>93</td>\n",
       "      <td>46</td>\n",
       "      <td>2.605018e+07</td>\n",
       "      <td>2150</td>\n",
       "      <td>8</td>\n",
       "      <td>2.100702e+06</td>\n",
       "    </tr>\n",
       "    <tr>\n",
       "      <th>23</th>\n",
       "      <td>23</td>\n",
       "      <td>92</td>\n",
       "      <td>47</td>\n",
       "      <td>2.789090e+07</td>\n",
       "      <td>1525</td>\n",
       "      <td>6</td>\n",
       "      <td>1.840723e+06</td>\n",
       "    </tr>\n",
       "    <tr>\n",
       "      <th>29</th>\n",
       "      <td>29</td>\n",
       "      <td>92</td>\n",
       "      <td>48</td>\n",
       "      <td>3.686888e+07</td>\n",
       "      <td>1250</td>\n",
       "      <td>4</td>\n",
       "      <td>2.393475e+06</td>\n",
       "    </tr>\n",
       "    <tr>\n",
       "      <th>...</th>\n",
       "      <td>...</td>\n",
       "      <td>...</td>\n",
       "      <td>...</td>\n",
       "      <td>...</td>\n",
       "      <td>...</td>\n",
       "      <td>...</td>\n",
       "      <td>...</td>\n",
       "    </tr>\n",
       "    <tr>\n",
       "      <th>299815</th>\n",
       "      <td>299815</td>\n",
       "      <td>92</td>\n",
       "      <td>46</td>\n",
       "      <td>6.076898e+11</td>\n",
       "      <td>1450</td>\n",
       "      <td>5</td>\n",
       "      <td>8.070328e+06</td>\n",
       "    </tr>\n",
       "    <tr>\n",
       "      <th>299816</th>\n",
       "      <td>299816</td>\n",
       "      <td>92</td>\n",
       "      <td>46</td>\n",
       "      <td>6.076913e+11</td>\n",
       "      <td>1225</td>\n",
       "      <td>11</td>\n",
       "      <td>1.482936e+06</td>\n",
       "    </tr>\n",
       "    <tr>\n",
       "      <th>299826</th>\n",
       "      <td>299826</td>\n",
       "      <td>92</td>\n",
       "      <td>48</td>\n",
       "      <td>6.077026e+11</td>\n",
       "      <td>1275</td>\n",
       "      <td>6</td>\n",
       "      <td>2.912906e+06</td>\n",
       "    </tr>\n",
       "    <tr>\n",
       "      <th>299827</th>\n",
       "      <td>299827</td>\n",
       "      <td>92</td>\n",
       "      <td>48</td>\n",
       "      <td>6.077044e+11</td>\n",
       "      <td>1825</td>\n",
       "      <td>6</td>\n",
       "      <td>1.792455e+06</td>\n",
       "    </tr>\n",
       "    <tr>\n",
       "      <th>299836</th>\n",
       "      <td>299836</td>\n",
       "      <td>92</td>\n",
       "      <td>48</td>\n",
       "      <td>6.077153e+11</td>\n",
       "      <td>325</td>\n",
       "      <td>1</td>\n",
       "      <td>4.570859e+06</td>\n",
       "    </tr>\n",
       "  </tbody>\n",
       "</table>\n",
       "<p>78755 rows × 7 columns</p>\n",
       "</div>"
      ],
      "text/plain": [
       "         index   y   x          time  center flux  cluster size            dt\n",
       "8            8  93  48  1.237680e+07          800             4  2.531658e+06\n",
       "9            9  92  48  1.289542e+07         1575            10  5.186203e+05\n",
       "22          22  93  46  2.605018e+07         2150             8  2.100702e+06\n",
       "23          23  92  47  2.789090e+07         1525             6  1.840723e+06\n",
       "29          29  92  48  3.686888e+07         1250             4  2.393475e+06\n",
       "...        ...  ..  ..           ...          ...           ...           ...\n",
       "299815  299815  92  46  6.076898e+11         1450             5  8.070328e+06\n",
       "299816  299816  92  46  6.076913e+11         1225            11  1.482936e+06\n",
       "299826  299826  92  48  6.077026e+11         1275             6  2.912906e+06\n",
       "299827  299827  92  48  6.077044e+11         1825             6  1.792455e+06\n",
       "299836  299836  92  48  6.077153e+11          325             1  4.570859e+06\n",
       "\n",
       "[78755 rows x 7 columns]"
      ]
     },
     "execution_count": 228,
     "metadata": {},
     "output_type": "execute_result"
    }
   ],
   "source": [
    "h_lines"
   ]
  },
  {
   "cell_type": "code",
   "execution_count": null,
   "id": "b0ba45e4-e151-4260-a4a2-7faa6c9511cf",
   "metadata": {},
   "outputs": [],
   "source": []
  }
 ],
 "metadata": {
  "kernelspec": {
   "display_name": "Python 3",
   "language": "python",
   "name": "python3"
  },
  "language_info": {
   "codemirror_mode": {
    "name": "ipython",
    "version": 3
   },
   "file_extension": ".py",
   "mimetype": "text/x-python",
   "name": "python",
   "nbconvert_exporter": "python",
   "pygments_lexer": "ipython3",
   "version": "3.8.8"
  }
 },
 "nbformat": 4,
 "nbformat_minor": 5
}
