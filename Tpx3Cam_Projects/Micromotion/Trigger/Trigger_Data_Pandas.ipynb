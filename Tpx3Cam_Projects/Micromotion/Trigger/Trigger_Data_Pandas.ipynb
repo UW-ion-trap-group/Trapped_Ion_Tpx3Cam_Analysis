{
 "cells": [
  {
   "cell_type": "code",
   "execution_count": 1,
   "metadata": {},
   "outputs": [
    {
     "name": "stdout",
     "output_type": "stream",
     "text": [
      "The history saving thread hit an unexpected error (DatabaseError('database disk image is malformed')).History will not be written to the database.\n",
      "Fri Apr 16 10:47:25 2021\n"
     ]
    }
   ],
   "source": [
    "import numpy as np\n",
    "%matplotlib inline\n",
    "import matplotlib as mpl\n",
    "import matplotlib.pyplot as plt\n",
    "import matplotlib.mlab as mlab\n",
    "import glob\n",
    "import time\n",
    "import pandas as pd\n",
    "plt.rcParams[\"figure.figsize\"] = (3,3)\n",
    "\n",
    "print (time.ctime())"
   ]
  },
  {
   "cell_type": "code",
   "execution_count": 2,
   "metadata": {},
   "outputs": [
    {
     "name": "stdout",
     "output_type": "stream",
     "text": [
      "02_cent.csv Fri Apr 16 10:47:25 2021\n"
     ]
    }
   ],
   "source": [
    "# read a data file, store all data in arrays\n",
    "\n",
    "file = \"02_cent.csv\"\n",
    "\n",
    "print (file, time.ctime())\n",
    "data = np.loadtxt(file, dtype= float, delimiter=\",\", usecols = (0,1,2,3,4,5,6,7,8,9,10,11))\n",
    "\n",
    "\n",
    "#print data\n",
    "tid = data[:, 0]    #\n",
    "tt  = data[:, 1]    #trigger time\n",
    "y   = data[:, 2]    #y-coordinate\n",
    "x   = data[:, 3]    #x-coordinate\n",
    "t   = data[:, 4]    #time of arrival\n",
    "a   = data[:, 5]    #centroided data (flux of brightest pixel)\n",
    "A   = data[:, 6]    #centroided data (flux of cluster)\n",
    "tof = data[:, 7]    #time of flight\n",
    "n   = data[:, 8]    #pixels in cluster (centroided data)\n",
    "yc  = data[:, 9]    #corrected y\n",
    "xc  = data[:, 10]   #corrected x\n",
    "tof_corr = data[:, 11]*1000     #corrected time of flight\n",
    "\n",
    "fileCorrection = \"fourions_trigger100kHz_300s_W0028_H11-200211-192509-1_LTcorr.csv\"\n",
    "correction = np.loadtxt(fileCorrection, unpack=True, delimiter=\",\")\n",
    "TOT_i  = [int(tot/25) for tot in a]\n",
    "t_corr = t/4096*25 + correction[1][TOT_i]*1000  ### WAS CHANGED FROM ORIGINAL\n",
    "tof_corr = tof/4096*25 #+ correction[1][TOT_i]*1000   ### WAS CHANGED FROM ORIGINAL\n",
    "tt_corr = tt/4096*25                                 ###TT TIME CONVERSION TO (ns)"
   ]
  },
  {
   "cell_type": "code",
   "execution_count": 3,
   "metadata": {},
   "outputs": [
    {
     "data": {
      "text/html": [
       "<div>\n",
       "<style scoped>\n",
       "    .dataframe tbody tr th:only-of-type {\n",
       "        vertical-align: middle;\n",
       "    }\n",
       "\n",
       "    .dataframe tbody tr th {\n",
       "        vertical-align: top;\n",
       "    }\n",
       "\n",
       "    .dataframe thead th {\n",
       "        text-align: right;\n",
       "    }\n",
       "</style>\n",
       "<table border=\"1\" class=\"dataframe\">\n",
       "  <thead>\n",
       "    <tr style=\"text-align: right;\">\n",
       "      <th></th>\n",
       "      <th>tt</th>\n",
       "      <th>x</th>\n",
       "      <th>y</th>\n",
       "      <th>time</th>\n",
       "      <th>center flux</th>\n",
       "      <th>cluster flux</th>\n",
       "      <th>tof</th>\n",
       "      <th>cluster size</th>\n",
       "      <th>xc</th>\n",
       "      <th>yc</th>\n",
       "      <th>tot-i</th>\n",
       "      <th>tfold</th>\n",
       "    </tr>\n",
       "  </thead>\n",
       "  <tbody>\n",
       "    <tr>\n",
       "      <th>0</th>\n",
       "      <td>-6.672326e+03</td>\n",
       "      <td>231</td>\n",
       "      <td>167</td>\n",
       "      <td>0.000000e+00</td>\n",
       "      <td>2775</td>\n",
       "      <td>4925</td>\n",
       "      <td>6673.962402</td>\n",
       "      <td>5</td>\n",
       "      <td>231.515228</td>\n",
       "      <td>167.525381</td>\n",
       "      <td>111</td>\n",
       "      <td>82.362402</td>\n",
       "    </tr>\n",
       "    <tr>\n",
       "      <th>1</th>\n",
       "      <td>3.427674e+03</td>\n",
       "      <td>148</td>\n",
       "      <td>168</td>\n",
       "      <td>6.885053e+03</td>\n",
       "      <td>1250</td>\n",
       "      <td>2150</td>\n",
       "      <td>3461.462402</td>\n",
       "      <td>3</td>\n",
       "      <td>148.313953</td>\n",
       "      <td>168.267442</td>\n",
       "      <td>50</td>\n",
       "      <td>15.122402</td>\n",
       "    </tr>\n",
       "    <tr>\n",
       "      <th>2</th>\n",
       "      <td>3.427674e+03</td>\n",
       "      <td>127</td>\n",
       "      <td>36</td>\n",
       "      <td>6.979158e+03</td>\n",
       "      <td>2000</td>\n",
       "      <td>3575</td>\n",
       "      <td>3553.649902</td>\n",
       "      <td>4</td>\n",
       "      <td>127.765734</td>\n",
       "      <td>36.758741</td>\n",
       "      <td>80</td>\n",
       "      <td>24.539902</td>\n",
       "    </tr>\n",
       "    <tr>\n",
       "      <th>3</th>\n",
       "      <td>1.352820e+04</td>\n",
       "      <td>62</td>\n",
       "      <td>131</td>\n",
       "      <td>1.651357e+04</td>\n",
       "      <td>2050</td>\n",
       "      <td>3825</td>\n",
       "      <td>2987.500000</td>\n",
       "      <td>5</td>\n",
       "      <td>62.179739</td>\n",
       "      <td>131.617647</td>\n",
       "      <td>82</td>\n",
       "      <td>37.780000</td>\n",
       "    </tr>\n",
       "    <tr>\n",
       "      <th>4</th>\n",
       "      <td>1.352820e+04</td>\n",
       "      <td>109</td>\n",
       "      <td>166</td>\n",
       "      <td>1.656774e+04</td>\n",
       "      <td>1650</td>\n",
       "      <td>2925</td>\n",
       "      <td>3042.187500</td>\n",
       "      <td>4</td>\n",
       "      <td>109.559829</td>\n",
       "      <td>166.192308</td>\n",
       "      <td>66</td>\n",
       "      <td>9.697500</td>\n",
       "    </tr>\n",
       "    <tr>\n",
       "      <th>...</th>\n",
       "      <td>...</td>\n",
       "      <td>...</td>\n",
       "      <td>...</td>\n",
       "      <td>...</td>\n",
       "      <td>...</td>\n",
       "      <td>...</td>\n",
       "      <td>...</td>\n",
       "      <td>...</td>\n",
       "      <td>...</td>\n",
       "      <td>...</td>\n",
       "      <td>...</td>\n",
       "      <td>...</td>\n",
       "    </tr>\n",
       "    <tr>\n",
       "      <th>1533132</th>\n",
       "      <td>5.067654e+09</td>\n",
       "      <td>92</td>\n",
       "      <td>128</td>\n",
       "      <td>5.067655e+09</td>\n",
       "      <td>1725</td>\n",
       "      <td>3450</td>\n",
       "      <td>804.687500</td>\n",
       "      <td>4</td>\n",
       "      <td>92.681159</td>\n",
       "      <td>128.108696</td>\n",
       "      <td>69</td>\n",
       "      <td>6.987500</td>\n",
       "    </tr>\n",
       "    <tr>\n",
       "      <th>1533133</th>\n",
       "      <td>5.067654e+09</td>\n",
       "      <td>147</td>\n",
       "      <td>166</td>\n",
       "      <td>5.067657e+09</td>\n",
       "      <td>1250</td>\n",
       "      <td>2825</td>\n",
       "      <td>2687.500000</td>\n",
       "      <td>4</td>\n",
       "      <td>147.075221</td>\n",
       "      <td>166.712389</td>\n",
       "      <td>50</td>\n",
       "      <td>68.860000</td>\n",
       "    </tr>\n",
       "    <tr>\n",
       "      <th>1533134</th>\n",
       "      <td>5.067654e+09</td>\n",
       "      <td>93</td>\n",
       "      <td>180</td>\n",
       "      <td>5.067659e+09</td>\n",
       "      <td>575</td>\n",
       "      <td>6800</td>\n",
       "      <td>4779.687500</td>\n",
       "      <td>8</td>\n",
       "      <td>93.125000</td>\n",
       "      <td>180.871324</td>\n",
       "      <td>23</td>\n",
       "      <td>9.027500</td>\n",
       "    </tr>\n",
       "    <tr>\n",
       "      <th>1533135</th>\n",
       "      <td>5.067654e+09</td>\n",
       "      <td>95</td>\n",
       "      <td>145</td>\n",
       "      <td>5.067661e+09</td>\n",
       "      <td>2275</td>\n",
       "      <td>4275</td>\n",
       "      <td>7021.875000</td>\n",
       "      <td>5</td>\n",
       "      <td>95.640351</td>\n",
       "      <td>145.184211</td>\n",
       "      <td>91</td>\n",
       "      <td>16.425000</td>\n",
       "    </tr>\n",
       "    <tr>\n",
       "      <th>1533136</th>\n",
       "      <td>5.067654e+09</td>\n",
       "      <td>102</td>\n",
       "      <td>174</td>\n",
       "      <td>5.067663e+09</td>\n",
       "      <td>2375</td>\n",
       "      <td>7200</td>\n",
       "      <td>8895.312500</td>\n",
       "      <td>6</td>\n",
       "      <td>102.024306</td>\n",
       "      <td>174.798611</td>\n",
       "      <td>95</td>\n",
       "      <td>68.922500</td>\n",
       "    </tr>\n",
       "  </tbody>\n",
       "</table>\n",
       "<p>1533137 rows × 12 columns</p>\n",
       "</div>"
      ],
      "text/plain": [
       "                   tt    x    y          time  center flux  cluster flux  \\\n",
       "0       -6.672326e+03  231  167  0.000000e+00         2775          4925   \n",
       "1        3.427674e+03  148  168  6.885053e+03         1250          2150   \n",
       "2        3.427674e+03  127   36  6.979158e+03         2000          3575   \n",
       "3        1.352820e+04   62  131  1.651357e+04         2050          3825   \n",
       "4        1.352820e+04  109  166  1.656774e+04         1650          2925   \n",
       "...               ...  ...  ...           ...          ...           ...   \n",
       "1533132  5.067654e+09   92  128  5.067655e+09         1725          3450   \n",
       "1533133  5.067654e+09  147  166  5.067657e+09         1250          2825   \n",
       "1533134  5.067654e+09   93  180  5.067659e+09          575          6800   \n",
       "1533135  5.067654e+09   95  145  5.067661e+09         2275          4275   \n",
       "1533136  5.067654e+09  102  174  5.067663e+09         2375          7200   \n",
       "\n",
       "                 tof  cluster size          xc          yc  tot-i      tfold  \n",
       "0        6673.962402             5  231.515228  167.525381    111  82.362402  \n",
       "1        3461.462402             3  148.313953  168.267442     50  15.122402  \n",
       "2        3553.649902             4  127.765734   36.758741     80  24.539902  \n",
       "3        2987.500000             5   62.179739  131.617647     82  37.780000  \n",
       "4        3042.187500             4  109.559829  166.192308     66   9.697500  \n",
       "...              ...           ...         ...         ...    ...        ...  \n",
       "1533132   804.687500             4   92.681159  128.108696     69   6.987500  \n",
       "1533133  2687.500000             4  147.075221  166.712389     50  68.860000  \n",
       "1533134  4779.687500             8   93.125000  180.871324     23   9.027500  \n",
       "1533135  7021.875000             5   95.640351  145.184211     91  16.425000  \n",
       "1533136  8895.312500             6  102.024306  174.798611     95  68.922500  \n",
       "\n",
       "[1533137 rows x 12 columns]"
      ]
     },
     "execution_count": 3,
     "metadata": {},
     "output_type": "execute_result"
    }
   ],
   "source": [
    "data_table = pd.read_csv(file)                                                                       #Create Pandas Table\n",
    "data_table.rename(columns = {'#TrigId':'tid', '#TrigTime':'tt', '#Col':'x', '#Row':'y', '#ToA':'time', '#ToT[arb]':'center flux', '#ToTtotal[arb]':'cluster flux'}, inplace=True)                    #Rename Columns\n",
    "data_table.rename(columns = {'#Trig-ToA[arb]':'tof', '#Centroid':'cluster size', '#cent_X':'xc', '#cent_Y':'yc', '#cTrig-ToA[us]':'tof_corr'}, inplace=True)\n",
    "data_table.drop(columns = {'Unnamed: 14', 'tid',  '#centStdev_X', '#centStdev_Y', '#centStdev_ToA'}, inplace=True)   #Remove unwanted columns\n",
    "data_table['tof'] = tof_corr                                   ####SWAP OUT CORRECTED VALUES FOR TOF\n",
    "data_table['tot-i'] = TOT_i\n",
    "period = 82.77\n",
    "data_table['tfold'] = (data_table['tof'] + 30)%period       #54.789717\n",
    "real_time = ((t_corr - t_corr.min()))                          #SWAP OUT CORRECTED VALUES AND START TOA AT ZERO.\n",
    "data_table['time'] = real_time   \n",
    "real_tt = ((tt_corr - t_corr.min()))                            #tt translation to match zeroing of TOA\n",
    "data_table['tt'] = real_tt\n",
    "data_table"
   ]
  },
  {
   "cell_type": "code",
   "execution_count": 18,
   "metadata": {},
   "outputs": [],
   "source": [
    "#data_table.to_csv('2D_Micromotion')"
   ]
  },
  {
   "cell_type": "code",
   "execution_count": 19,
   "metadata": {},
   "outputs": [
    {
     "data": {
      "text/plain": [
       "10100.78125"
      ]
     },
     "execution_count": 19,
     "metadata": {},
     "output_type": "execute_result"
    }
   ],
   "source": [
    "data_table['tof'].max()"
   ]
  },
  {
   "cell_type": "code",
   "execution_count": 7,
   "metadata": {},
   "outputs": [],
   "source": [
    "m = (data_table\n",
    "     .query(\"tof<0\")\n",
    "    )\n",
    "m\n",
    "data_table = data_table.query('1.2e9 < time < 2.5e9')"
   ]
  },
  {
   "cell_type": "code",
   "execution_count": 18,
   "metadata": {},
   "outputs": [
    {
     "data": {
      "text/plain": [
       "(110.0, 200.0)"
      ]
     },
     "execution_count": 18,
     "metadata": {},
     "output_type": "execute_result"
    },
    {
     "data": {
      "image/png": "[encoded data removed]",
      "text/plain": [
       "<Figure size 216x216 with 1 Axes>"
      ]
     },
     "metadata": {
      "needs_background": "light"
     },
     "output_type": "display_data"
    }
   ],
   "source": [
    "plt.hist2d(data_table['xc'], data_table['yc'], bins = 256,)# norm = mpl.colors.LogNorm())\n",
    "plt.title('2D Histogram')\n",
    "plt.xlim(75, 165)\n",
    "plt.ylim(110, 200)"
   ]
  },
  {
   "cell_type": "code",
   "execution_count": 90,
   "metadata": {},
   "outputs": [
    {
     "data": {
      "text/plain": [
       "(149.0, 161.0)"
      ]
     },
     "execution_count": 90,
     "metadata": {},
     "output_type": "execute_result"
    },
    {
     "data": {
      "image/png": "[encoded data removed]",
      "text/plain": [
       "<Figure size 360x360 with 1 Axes>"
      ]
     },
     "metadata": {
      "needs_background": "light"
     },
     "output_type": "display_data"
    }
   ],
   "source": [
    "# This cell is used to see an image of the ions. Helpful to make sure ions did not move (blurry) and that there weren't spatial errors \n",
    "# Helpful also to identify the locaitons of the ions.\n",
    "plt.figure(figsize=(5, 5))\n",
    "it = data_table\n",
    "plt.hist2d(it['xc'], it['yc'], bins = (256, 256), range = [(0,256), (0, 256)],)# norm = mpl.colors.LogNorm())\n",
    "x_guess = x20\n",
    "y_guess = y20\n",
    "plt.xlim(x_guess-6,x_guess+6)\n",
    "plt.ylim(y_guess-6, y_guess+6)\n"
   ]
  },
  {
   "cell_type": "code",
   "execution_count": 69,
   "metadata": {},
   "outputs": [],
   "source": [
    "x1 = 91; y1 = 133\n",
    "x2 = 83; y2 = 147\n",
    "x3 = 85; y3 = 163\n",
    "x4 = 93; y4 = 177\n",
    "x5 = 109; y5 = 181\n",
    "x6 = 124; y6 = 182\n",
    "x7 = 139; y7 = 180\n",
    "x8 = 149; y8 = 168\n",
    "x9 = 153; y9 = 152\n",
    "x10 = 147; y10 = 137\n",
    "x11 = 105; y11 = 139\n",
    "x12 = 97; y12 = 151\n",
    "x13 = 103; y13 = 164\n",
    "x14 = 117; y14 = 168\n",
    "x15 = 131; y15 = 167\n",
    "x16 = 139; y16 = 156\n",
    "x17 = 133; y17 = 142\n",
    "x18 = 120; y18 = 138\n",
    "x19 = 112; y19 = 152\n",
    "x20 = 125; y20 = 155"
   ]
  },
  {
   "cell_type": "code",
   "execution_count": 28,
   "metadata": {},
   "outputs": [
    {
     "data": {
      "text/plain": [
       "(array([13461., 13025., 13565., 13574., 13927., 13942., 14340., 14533.,\n",
       "        14688., 15102., 15081., 15571., 15737., 16193., 16610., 17102.,\n",
       "        16978., 17802., 17387., 17963., 18179., 18305., 18374., 18572.,\n",
       "        18491., 18949., 18744., 18414., 18498., 18354., 18499., 18129.,\n",
       "        18248., 17474., 17686., 17146., 16990., 17089., 16770., 16158.,\n",
       "        16261., 15830., 15636., 15459., 15102., 14876., 14200., 14559.,\n",
       "        14140., 14038., 13924., 13751., 13733., 13669., 13454., 13505.,\n",
       "        13429., 13674., 13528., 13615., 13606., 13969., 14028., 14093.,\n",
       "        14252., 14589., 14858., 14550., 14898., 15345., 15413., 15085.,\n",
       "        15631., 15599., 15719., 15813., 15656., 15673., 15405., 15440.,\n",
       "        15456., 15269., 15132., 15087., 14692., 14847., 14289., 14625.,\n",
       "        13932., 14143., 13781., 13666., 13475., 13371., 13336., 13298.,\n",
       "        13489., 12956., 13389., 13249.]),\n",
       " array([1.15234375e-03, 8.28840332e-01, 1.65652832e+00, 2.48421631e+00,\n",
       "        3.31190430e+00, 4.13959229e+00, 4.96728027e+00, 5.79496826e+00,\n",
       "        6.62265625e+00, 7.45034424e+00, 8.27803223e+00, 9.10572021e+00,\n",
       "        9.93340820e+00, 1.07610962e+01, 1.15887842e+01, 1.24164722e+01,\n",
       "        1.32441602e+01, 1.40718481e+01, 1.48995361e+01, 1.57272241e+01,\n",
       "        1.65549121e+01, 1.73826001e+01, 1.82102881e+01, 1.90379761e+01,\n",
       "        1.98656641e+01, 2.06933521e+01, 2.15210400e+01, 2.23487280e+01,\n",
       "        2.31764160e+01, 2.40041040e+01, 2.48317920e+01, 2.56594800e+01,\n",
       "        2.64871680e+01, 2.73148560e+01, 2.81425439e+01, 2.89702319e+01,\n",
       "        2.97979199e+01, 3.06256079e+01, 3.14532959e+01, 3.22809839e+01,\n",
       "        3.31086719e+01, 3.39363599e+01, 3.47640479e+01, 3.55917358e+01,\n",
       "        3.64194238e+01, 3.72471118e+01, 3.80747998e+01, 3.89024878e+01,\n",
       "        3.97301758e+01, 4.05578638e+01, 4.13855518e+01, 4.22132397e+01,\n",
       "        4.30409277e+01, 4.38686157e+01, 4.46963037e+01, 4.55239917e+01,\n",
       "        4.63516797e+01, 4.71793677e+01, 4.80070557e+01, 4.88347437e+01,\n",
       "        4.96624316e+01, 5.04901196e+01, 5.13178076e+01, 5.21454956e+01,\n",
       "        5.29731836e+01, 5.38008716e+01, 5.46285596e+01, 5.54562476e+01,\n",
       "        5.62839355e+01, 5.71116235e+01, 5.79393115e+01, 5.87669995e+01,\n",
       "        5.95946875e+01, 6.04223755e+01, 6.12500635e+01, 6.20777515e+01,\n",
       "        6.29054395e+01, 6.37331274e+01, 6.45608154e+01, 6.53885034e+01,\n",
       "        6.62161914e+01, 6.70438794e+01, 6.78715674e+01, 6.86992554e+01,\n",
       "        6.95269434e+01, 7.03546313e+01, 7.11823193e+01, 7.20100073e+01,\n",
       "        7.28376953e+01, 7.36653833e+01, 7.44930713e+01, 7.53207593e+01,\n",
       "        7.61484473e+01, 7.69761353e+01, 7.78038232e+01, 7.86315112e+01,\n",
       "        7.94591992e+01, 8.02868872e+01, 8.11145752e+01, 8.19422632e+01,\n",
       "        8.27699512e+01]),\n",
       " <a list of 100 Patch objects>)"
      ]
     },
     "execution_count": 28,
     "metadata": {},
     "output_type": "execute_result"
    },
    {
     "data": {
      "image/png": "[encoded data removed]",
      "text/plain": [
       "<Figure size 216x216 with 1 Axes>"
      ]
     },
     "metadata": {
      "needs_background": "light"
     },
     "output_type": "display_data"
    }
   ],
   "source": [
    "plt.hist(data_table['tfold'], bins = 100)"
   ]
  },
  {
   "cell_type": "code",
   "execution_count": null,
   "metadata": {},
   "outputs": [],
   "source": []
  }
 ],
 "metadata": {
  "kernelspec": {
   "display_name": "Python 3",
   "language": "python",
   "name": "python3"
  },
  "language_info": {
   "codemirror_mode": {
    "name": "ipython",
    "version": 3
   },
   "file_extension": ".py",
   "mimetype": "text/x-python",
   "name": "python",
   "nbconvert_exporter": "python",
   "pygments_lexer": "ipython3",
   "version": "3.7.7"
  }
 },
 "nbformat": 4,
 "nbformat_minor": 4
}
