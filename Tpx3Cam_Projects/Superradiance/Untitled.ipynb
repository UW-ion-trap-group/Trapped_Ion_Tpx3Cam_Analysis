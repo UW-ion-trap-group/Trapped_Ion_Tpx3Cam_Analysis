{
 "cells": [
  {
   "cell_type": "code",
   "execution_count": null,
   "id": "1d60662a-0a62-4bad-924d-d871c4cd0c0d",
   "metadata": {},
   "outputs": [],
   "source": []
  },
  {
   "cell_type": "code",
   "execution_count": 1,
   "id": "0bb4dd69-d6ff-4ec7-9c0c-9481f8f7b034",
   "metadata": {},
   "outputs": [],
   "source": [
    "import numpy as np\n",
    "import matplotlib.pyplot as plt\n",
    "from scipy.optimize import curve_fit\n",
    "xdata = [ -10.0, -9.0, -8.0, -7.0, -6.0, -5.0, -4.0, -3.0, -2.0, -1.0, 0.0, 1.0, 2.0, 3.0, 4.0, 5.0, 6.0, 7.0, 8.0, 9.0, 10.0]\n",
    "ydata = [1.2, 4.2, 6.7, 8.3, 10.6, 11.7, 13.5, 14.5, 15.7, 16.1, 16.6, 16.0, 15.4, 14.4, 14.2, 12.7, 10.3, 8.6, 6.1, 3.9, 2.1]\n",
    "  \n"
   ]
  },
  {
   "cell_type": "code",
   "execution_count": null,
   "id": "957d5b78-33c9-4519-8cf5-c7c827a2a8c2",
   "metadata": {},
   "outputs": [],
   "source": []
  },
  {
   "cell_type": "code",
   "execution_count": 2,
   "id": "ecd5ce0e-657a-470c-8bb1-c7a2ff94edf8",
   "metadata": {},
   "outputs": [],
   "source": []
  },
  {
   "cell_type": "code",
   "execution_count": 10,
   "id": "7ea2b287-3114-4c64-b676-07457038f551",
   "metadata": {},
   "outputs": [
    {
     "data": {
      "text/plain": [
       "array([ 86.55347333,  71.40119739, 269.22444897,   4.10335799])"
      ]
     },
     "execution_count": 10,
     "metadata": {},
     "output_type": "execute_result"
    },
    {
     "data": {
      "image/png": "[encoded data removed]",
      "text/plain": [
       "<Figure size 432x288 with 1 Axes>"
      ]
     },
     "metadata": {
      "needs_background": "light"
     },
     "output_type": "display_data"
    }
   ],
   "source": [
    "# Recast xdata and ydata into numpy arrays so we can use their handy features\n",
    "xdata = [272,\n",
    "271,\n",
    "270,\n",
    "269,\n",
    "267,\n",
    "266,\n",
    "265,\n",
    "264,\n",
    "264,\n",
    "263,\n",
    "261,\n",
    "259,\n",
    "258,\n",
    "256,\n",
    "254,\n",
    "252]\n",
    "\n",
    "\n",
    "ydata = [145.4325511,\n",
    "152.655725,\n",
    "153.978382,\n",
    "154.258848,\n",
    "152.57225,\n",
    "136.657079,\n",
    "134.1983181,\n",
    "118.32405,\n",
    "119.870844,\n",
    "102.668052,\n",
    "91.11129003,\n",
    "91.56623105,\n",
    "94.194474,\n",
    "93.05119005,\n",
    "86.32376404,\n",
    "78.39918601]\n",
    "plt.plot(xdata, ydata, 'o')\n",
    "  \n",
    "# Define the Gaussian function\n",
    "def Gauss(x, H, A, x0, sigma):\n",
    "    return H + A * np.exp(-(x - x0) ** 2 / (2 * sigma ** 2))\n",
    "\n",
    "guess = [80, 70, 270, 10]\n",
    "\n",
    "parameters, covariance = curve_fit(Gauss, xdata, ydata, guess)\n",
    "  \n",
    "\n",
    "fit_y = Gauss(xdata, *parameters)\n",
    "plt.plot(xdata, ydata, 'o', label='data')\n",
    "plt.plot(xdata, fit_y, '-', label='fit')\n",
    "plt.legend()\n",
    "parameters"
   ]
  },
  {
   "cell_type": "code",
   "execution_count": null,
   "id": "d55963d9-d8a1-470d-b22e-dfa1409ad5b4",
   "metadata": {},
   "outputs": [],
   "source": []
  }
 ],
 "metadata": {
  "kernelspec": {
   "display_name": "Python 3 (ipykernel)",
   "language": "python",
   "name": "python3"
  },
  "language_info": {
   "codemirror_mode": {
    "name": "ipython",
    "version": 3
   },
   "file_extension": ".py",
   "mimetype": "text/x-python",
   "name": "python",
   "nbconvert_exporter": "python",
   "pygments_lexer": "ipython3",
   "version": "3.9.7"
  }
 },
 "nbformat": 4,
 "nbformat_minor": 5
}
